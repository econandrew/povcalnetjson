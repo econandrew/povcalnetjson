{
 "cells": [
  {
   "cell_type": "code",
   "execution_count": 274,
   "metadata": {
    "collapsed": true
   },
   "outputs": [],
   "source": [
    "import json\n",
    "import pandas as pd\n",
    "import numpy as np"
   ]
  },
  {
   "cell_type": "markdown",
   "metadata": {},
   "source": [
    "Edit this next cell to choose a different country / year report:"
   ]
  },
  {
   "cell_type": "code",
   "execution_count": 296,
   "metadata": {
    "collapsed": false
   },
   "outputs": [],
   "source": [
    "with open(\"../jsoncache/BGR_3_2001.json\",\"r\") as f:\n",
    "    d = json.loads(f.read())"
   ]
  },
  {
   "cell_type": "markdown",
   "metadata": {},
   "source": [
    "These next few conversions don't really work. The PPP data field seems wrong."
   ]
  },
  {
   "cell_type": "code",
   "execution_count": 297,
   "metadata": {
    "collapsed": false
   },
   "outputs": [
    {
     "name": "stdout",
     "output_type": "stream",
     "text": [
      "Poverty line (PPP): 57.791729999999994 = 57.7917\n",
      "Poverty line (LCU): 44.214603287639996 = 25.5526\n"
     ]
    }
   ],
   "source": [
    "# Check poverty line conversion\n",
    "DAYS_PER_MONTH = 30.4167\n",
    "line_month_ppp_calc = d['inputs']['line_day_ppp'] * DAYS_PER_MONTH\n",
    "line_month_ppp_given = d['inputs']['line_month_ppp']\n",
    "print(\"Poverty line (PPP):\", line_month_ppp_calc, \"=\", line_month_ppp_given)\n",
    "\n",
    "ppp = d['inputs']['ppp']\n",
    "\n",
    "line_month_lcu_calc = line_month_ppp_calc * ppp\n",
    "line_month_lcu_given = d['inputs']['line_month_lcu']\n",
    "print(\"Poverty line (LCU):\", line_month_lcu_calc, \"=\", line_month_lcu_given)"
   ]
  },
  {
   "cell_type": "code",
   "execution_count": 298,
   "metadata": {
    "collapsed": false
   },
   "outputs": [
    {
     "name": "stdout",
     "output_type": "stream",
     "text": [
      "Data mean (PPP): 174.94784777300842 = 302.719\n",
      "Implied PPP: 0.44214931999643237 cf. 0.765068\n"
     ]
    }
   ],
   "source": [
    "# Check data mean\n",
    "sample_mean_ppp_calc = d['sample']['mean_month_lcu'] / ppp\n",
    "sample_mean_ppp_given = d['sample']['mean_month_ppp']\n",
    "print(\"Data mean (PPP):\", sample_mean_ppp_calc, \"=\", sample_mean_ppp_given)\n",
    "\n",
    "implied_ppp = d['sample']['mean_month_lcu'] / d['sample']['mean_month_ppp']\n",
    "print(\"Implied PPP:\", implied_ppp, \"cf.\", ppp)"
   ]
  },
  {
   "cell_type": "markdown",
   "metadata": {},
   "source": [
    "But this one only works if you use the PPP given applied to sample mean in LCU, which is odd."
   ]
  },
  {
   "cell_type": "code",
   "execution_count": 299,
   "metadata": {
    "collapsed": false
   },
   "outputs": [
    {
     "name": "stdout",
     "output_type": "stream",
     "text": [
      "Total wealth: 1304935.9965388698 = 1304940.0\n"
     ]
    }
   ],
   "source": [
    "pop_N = d['sample']['effective_pop_N']\n",
    "total_wealth_calc = pop_N * sample_mean_ppp_calc\n",
    "total_wealth_given = d['sample']['effective_pop_wealth']\n",
    "print(\"Total wealth:\", total_wealth_calc, '=', total_wealth_given)"
   ]
  },
  {
   "cell_type": "markdown",
   "metadata": {},
   "source": [
    "Minimum and maximum can't be checked, so proceed to the poverty statistics. Gini is calculate directly from $L(p)$."
   ]
  },
  {
   "cell_type": "code",
   "execution_count": 303,
   "metadata": {
    "collapsed": false
   },
   "outputs": [
    {
     "name": "stdout",
     "output_type": "stream",
     "text": [
      "Gini: 0.326692529746 = 0.326822\n"
     ]
    }
   ],
   "source": [
    "# Load the Lorenz curve\n",
    "lorenz = pd.DataFrame(d['lorenz'])\n",
    "lorenz = lorenz.drop(\"index\",1)\n",
    "lorenz = lorenz.append(pd.DataFrame({\"L\": 0, \"p\": 0}, index = [-1]))\n",
    "lorenz = lorenz.sort_values(\"p\")\n",
    "\n",
    "lorenz['dp'] = lorenz.p.shift(-1)[:-1] - lorenz.p[:-1]\n",
    "lorenz['dL'] = lorenz.L.shift(-1)[:-1] - lorenz.L[:-1]\n",
    "lorenz['dLdp'] = lorenz.dL / lorenz.dp\n",
    "\n",
    "# Now, F(y) = inverse of Q(p)\n",
    "lorenz['y'] = lorenz.dLdp * sample_mean_ppp_given\n",
    "\n",
    "# Calc and compare Ginis\n",
    "G_calc = 1 - sum(0.5 * lorenz.dp[:-1] * (lorenz.L.shift(-1)[:-1] + lorenz.L[:-1])) / 0.5\n",
    "G_given = d['dist']['Gini']\n",
    "print(\"Gini:\",G_calc, \"=\", G_given)"
   ]
  },
  {
   "cell_type": "code",
   "execution_count": 304,
   "metadata": {
    "collapsed": false
   },
   "outputs": [
    {
     "name": "stdout",
     "output_type": "stream",
     "text": [
      "HC: 0.02011 = 0.0199759\n"
     ]
    }
   ],
   "source": [
    "# Headcount - this is very approx with no interpolation \n",
    "HC_calc = lorenz.p[(lorenz.y - line_month_ppp_given).abs().argmin()]\n",
    "HC_given = d['dist']['HC']\n",
    "print(\"HC:\",HC_calc,\"=\",HC_given)"
   ]
  },
  {
   "cell_type": "code",
   "execution_count": 305,
   "metadata": {
    "collapsed": false
   },
   "outputs": [
    {
     "name": "stdout",
     "output_type": "stream",
     "text": [
      "PG: 0.00418877947006 = 0.00418911\n",
      "FGT2: 0.0012046641454 = 0.00136586\n"
     ]
    }
   ],
   "source": [
    "# Poverty gap\n",
    "lorenz['PG'] =  (line_month_ppp_given - lorenz.y) / line_month_ppp_given\n",
    "lorenz.PG[lorenz.PG < 0] = 0\n",
    "\n",
    "PG_calc = sum(lorenz.PG[:-1] * lorenz.dp[:-1])\n",
    "PG_given = d['dist']['PG']\n",
    "print(\"PG:\",PG_calc,\"=\",PG_given)\n",
    "\n",
    "# Poverty gap squared (FGT2)\n",
    "lorenz.FGT2 = lorenz.PG * lorenz.PG\n",
    "FGT2_calc = sum(lorenz.FGT2[:-1] * lorenz.dp[:-1])\n",
    "FGT2_given = d['dist']['FGT2']\n",
    "print(\"FGT2:\",FGT2_calc,\"=\",FGT2_given)"
   ]
  },
  {
   "cell_type": "code",
   "execution_count": 306,
   "metadata": {
    "collapsed": false
   },
   "outputs": [
    {
     "name": "stdout",
     "output_type": "stream",
     "text": [
      "Median: 261.794761431 = 259.852\n"
     ]
    }
   ],
   "source": [
    "# Median\n",
    "median_calc = lorenz.y[(lorenz.p - 0.5).abs().argmin()]\n",
    "median_given = d['dist']['median_ppp']\n",
    "print(\"Median:\",median_calc,\"=\",median_given)"
   ]
  },
  {
   "cell_type": "code",
   "execution_count": 307,
   "metadata": {
    "collapsed": false
   },
   "outputs": [
    {
     "name": "stdout",
     "output_type": "stream",
     "text": [
      "MLD 0.188236966696 = 0.188992\n",
      "Watts 0.00496315954549 = 0.00514352\n"
     ]
    }
   ],
   "source": [
    "# Mean log deviation (MLD)\n",
    "lorenz.LD = np.log(sample_mean_ppp_given) - np.log(lorenz.y)\n",
    "MLD_calc = sum(lorenz.LD[:-1] * lorenz.dp[:-1])\n",
    "MLD_given = d['dist']['MLD']\n",
    "print(\"MLD\",MLD_calc, \"=\",MLD_given)\n",
    "\n",
    "# Watts index\n",
    "lorenz.Watts = np.log(line_month_ppp_given) - np.log(lorenz.y)\n",
    "lorenz.Watts[lorenz.Watts < 0] = 0\n",
    "Watts_calc = sum(lorenz.Watts[:-1] * lorenz.dp[:-1])\n",
    "Watts_given = d['dist']['Watt']\n",
    "print(\"Watts\",Watts_calc,\"=\",Watts_given)"
   ]
  },
  {
   "cell_type": "code",
   "execution_count": null,
   "metadata": {
    "collapsed": true
   },
   "outputs": [],
   "source": []
  }
 ],
 "metadata": {
  "kernelspec": {
   "display_name": "Python 3",
   "language": "python",
   "name": "python3"
  },
  "language_info": {
   "codemirror_mode": {
    "name": "ipython",
    "version": 3
   },
   "file_extension": ".py",
   "mimetype": "text/x-python",
   "name": "python",
   "nbconvert_exporter": "python",
   "pygments_lexer": "ipython3",
   "version": "3.5.2"
  }
 },
 "nbformat": 4,
 "nbformat_minor": 1
}
